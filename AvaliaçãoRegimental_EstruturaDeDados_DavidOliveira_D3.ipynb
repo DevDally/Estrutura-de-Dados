{
  "nbformat": 4,
  "nbformat_minor": 0,
  "metadata": {
    "colab": {
      "provenance": [],
      "authorship_tag": "ABX9TyPUl58BQBzK9MprnYUmImE0",
      "include_colab_link": true
    },
    "kernelspec": {
      "name": "python3",
      "display_name": "Python 3"
    },
    "language_info": {
      "name": "python"
    }
  },
  "cells": [
    {
      "cell_type": "markdown",
      "metadata": {
        "id": "view-in-github",
        "colab_type": "text"
      },
      "source": [
        "<a href=\"https://colab.research.google.com/github/DevDally/Estrutura-de-Dados/blob/main/Avalia%C3%A7%C3%A3oRegimental_EstruturaDeDados_DavidOliveira_D3.ipynb\" target=\"_parent\"><img src=\"https://colab.research.google.com/assets/colab-badge.svg\" alt=\"Open In Colab\"/></a>"
      ]
    },
    {
      "cell_type": "markdown",
      "source": [
        "# A1 Avaliação Regimental\n",
        "\n",
        "Nome: David Oliveira de Sousa\n",
        "\n",
        "RGM: 33112088\n",
        "\n",
        "Turma: D3\n",
        "\n",
        "Link Colab:https://colab.research.google.com/drive/1Kwbvi3ofBYrw5E-LNZ4RAC56aIYwM5oY?usp=sharing"
      ],
      "metadata": {
        "id": "2_w0xSr-kukn"
      }
    },
    {
      "cell_type": "markdown",
      "source": [
        "# Questão 1\n",
        "\n",
        "**1. Apresente em tela (output) toda a base de dados**\n",
        "\n",
        "Espera-se que você exiba todo o conteúdo da base de dados na saída"
      ],
      "metadata": {
        "id": "ACfMXPD6iaV9"
      }
    },
    {
      "cell_type": "code",
      "source": [
        "import pandas as pd\n",
        "musicas = {\n",
        "    \"Nome\": [\"Bohemian Rhapsody\", \"Billie Jean\", \"Stairway to Heaven\", \"Shape of You\", \"Hotel California\", \"Uptown Funk\", \"Imagine\"],\n",
        "    \"Album\": [\"A Night at the Opera\", \"Thriller\", \"Led Zeppelin IV\", \"÷ (Divide)\", \"Hotel California\", \"Uptown Special\", \"Imagine\"],\n",
        "    \"Artista\": [\"Queen\", \"Michael Jackson\", \"Led Zeppelin\", \"Ed Sheeran\", \"Eagles\", \"Mark Ronson feat. Bruno Mars\", \"John Lennon\"],\n",
        "    \"Duração\": [\"5:55\", \"4:54\", \"8:02\", \"3:53\", \"6:30\", \"4:30\", \"3:03\"],\n",
        "    \"Ano de Lançamento\": [1975, 1982, 1971, 2017, 1976, 2014, 1971],\n",
        "    \"Gênero\": [\"Rock\", \"Pop\", \"Rock\", \"Pop\", \"Rock\", \"Pop\", \"Rock\"]\n",
        "}\n",
        "df = pd.DataFrame(musicas)\n",
        "print(df)"
      ],
      "metadata": {
        "colab": {
          "base_uri": "https://localhost:8080/"
        },
        "id": "K3NsB2_SdK9S",
        "outputId": "af7d033e-4463-455e-cceb-d6787797cbfb"
      },
      "execution_count": null,
      "outputs": [
        {
          "output_type": "stream",
          "name": "stdout",
          "text": [
            "                 Nome                 Album                       Artista  \\\n",
            "0   Bohemian Rhapsody  A Night at the Opera                         Queen   \n",
            "1         Billie Jean              Thriller               Michael Jackson   \n",
            "2  Stairway to Heaven       Led Zeppelin IV                  Led Zeppelin   \n",
            "3        Shape of You            ÷ (Divide)                    Ed Sheeran   \n",
            "4    Hotel California      Hotel California                        Eagles   \n",
            "5         Uptown Funk        Uptown Special  Mark Ronson feat. Bruno Mars   \n",
            "6             Imagine               Imagine                   John Lennon   \n",
            "\n",
            "  Duração  Ano de Lançamento Gênero  \n",
            "0    5:55               1975   Rock  \n",
            "1    4:54               1982    Pop  \n",
            "2    8:02               1971   Rock  \n",
            "3    3:53               2017    Pop  \n",
            "4    6:30               1976   Rock  \n",
            "5    4:30               2014    Pop  \n",
            "6    3:03               1971   Rock  \n"
          ]
        }
      ]
    },
    {
      "cell_type": "markdown",
      "source": [
        "# Questão 2\n",
        "**2. Apresente o tamanho do seu dataframe (quantas colunas x linhas). **\n",
        "\n",
        "Você deve retornar o número de colunas e o número de linhas do dataframe"
      ],
      "metadata": {
        "id": "rXnqK0TqqLOu"
      }
    },
    {
      "cell_type": "code",
      "source": [
        "print(df.shape)"
      ],
      "metadata": {
        "colab": {
          "base_uri": "https://localhost:8080/"
        },
        "id": "fvBjCs21fuiQ",
        "outputId": "f0b24b83-ea32-46e4-b7f7-d454ce047aa7"
      },
      "execution_count": null,
      "outputs": [
        {
          "output_type": "stream",
          "name": "stdout",
          "text": [
            "(7, 6)\n"
          ]
        }
      ]
    },
    {
      "cell_type": "markdown",
      "source": [
        "#Questão 3\n",
        "**3. Acesse a linha (x) e apresente em tela todas as características do item**\n",
        "\n",
        "Você deve acessar a linha específica (x) e exibir todas as suas características ou colunas"
      ],
      "metadata": {
        "id": "WZeb2gc5qLrd"
      }
    },
    {
      "cell_type": "code",
      "source": [
        "df.iloc[2]"
      ],
      "metadata": {
        "colab": {
          "base_uri": "https://localhost:8080/"
        },
        "id": "8M_BKHdtg3YX",
        "outputId": "b2d0e6fc-8742-46e1-a979-af11ab2f1b0e"
      },
      "execution_count": null,
      "outputs": [
        {
          "output_type": "execute_result",
          "data": {
            "text/plain": [
              "Nome                 Stairway to Heaven\n",
              "Album                   Led Zeppelin IV\n",
              "Artista                    Led Zeppelin\n",
              "Duração                            8:02\n",
              "Ano de Lançamento                  1971\n",
              "Gênero                             Rock\n",
              "Name: 2, dtype: object"
            ]
          },
          "metadata": {},
          "execution_count": 80
        }
      ]
    },
    {
      "cell_type": "markdown",
      "source": [
        "#Questão 4\n",
        "**4. Verifique se o dataframe está vazio**\n",
        "  \n",
        "Você deve verificar se o dataframe está vazio e fornecer o resultado dessa verificação"
      ],
      "metadata": {
        "id": "DJc5R6H3qMVG"
      }
    },
    {
      "cell_type": "code",
      "source": [
        "df.empty"
      ],
      "metadata": {
        "colab": {
          "base_uri": "https://localhost:8080/"
        },
        "id": "9Cn4O1UjhLJZ",
        "outputId": "b58db424-2a4f-486d-934d-6e840b11ca06"
      },
      "execution_count": null,
      "outputs": [
        {
          "output_type": "execute_result",
          "data": {
            "text/plain": [
              "False"
            ]
          },
          "metadata": {},
          "execution_count": 81
        }
      ]
    },
    {
      "cell_type": "markdown",
      "source": [
        "#Questão 5\n",
        "**5. Apresente em tela os 5 primeiros registros da base de dados**\n",
        "\n",
        "Você deve exibir os 5 primeiros registros (linhas) da base de dados"
      ],
      "metadata": {
        "id": "NCkfxm8-qMhN"
      }
    },
    {
      "cell_type": "code",
      "source": [
        "df.iloc[0:5]"
      ],
      "metadata": {
        "colab": {
          "base_uri": "https://localhost:8080/",
          "height": 206
        },
        "id": "k3M4LI3lhdoS",
        "outputId": "186c9633-cf35-4a36-90d5-1b5e4cbb14b7"
      },
      "execution_count": null,
      "outputs": [
        {
          "output_type": "execute_result",
          "data": {
            "text/plain": [
              "                 Nome                 Album          Artista Duração  \\\n",
              "0   Bohemian Rhapsody  A Night at the Opera            Queen    5:55   \n",
              "1         Billie Jean              Thriller  Michael Jackson    4:54   \n",
              "2  Stairway to Heaven       Led Zeppelin IV     Led Zeppelin    8:02   \n",
              "3        Shape of You            ÷ (Divide)       Ed Sheeran    3:53   \n",
              "4    Hotel California      Hotel California           Eagles    6:30   \n",
              "\n",
              "   Ano de Lançamento Gênero  \n",
              "0               1975   Rock  \n",
              "1               1982    Pop  \n",
              "2               1971   Rock  \n",
              "3               2017    Pop  \n",
              "4               1976   Rock  "
            ],
            "text/html": [
              "\n",
              "  <div id=\"df-6e220492-b0df-4c7b-9023-1af3887c7bc7\" class=\"colab-df-container\">\n",
              "    <div>\n",
              "<style scoped>\n",
              "    .dataframe tbody tr th:only-of-type {\n",
              "        vertical-align: middle;\n",
              "    }\n",
              "\n",
              "    .dataframe tbody tr th {\n",
              "        vertical-align: top;\n",
              "    }\n",
              "\n",
              "    .dataframe thead th {\n",
              "        text-align: right;\n",
              "    }\n",
              "</style>\n",
              "<table border=\"1\" class=\"dataframe\">\n",
              "  <thead>\n",
              "    <tr style=\"text-align: right;\">\n",
              "      <th></th>\n",
              "      <th>Nome</th>\n",
              "      <th>Album</th>\n",
              "      <th>Artista</th>\n",
              "      <th>Duração</th>\n",
              "      <th>Ano de Lançamento</th>\n",
              "      <th>Gênero</th>\n",
              "    </tr>\n",
              "  </thead>\n",
              "  <tbody>\n",
              "    <tr>\n",
              "      <th>0</th>\n",
              "      <td>Bohemian Rhapsody</td>\n",
              "      <td>A Night at the Opera</td>\n",
              "      <td>Queen</td>\n",
              "      <td>5:55</td>\n",
              "      <td>1975</td>\n",
              "      <td>Rock</td>\n",
              "    </tr>\n",
              "    <tr>\n",
              "      <th>1</th>\n",
              "      <td>Billie Jean</td>\n",
              "      <td>Thriller</td>\n",
              "      <td>Michael Jackson</td>\n",
              "      <td>4:54</td>\n",
              "      <td>1982</td>\n",
              "      <td>Pop</td>\n",
              "    </tr>\n",
              "    <tr>\n",
              "      <th>2</th>\n",
              "      <td>Stairway to Heaven</td>\n",
              "      <td>Led Zeppelin IV</td>\n",
              "      <td>Led Zeppelin</td>\n",
              "      <td>8:02</td>\n",
              "      <td>1971</td>\n",
              "      <td>Rock</td>\n",
              "    </tr>\n",
              "    <tr>\n",
              "      <th>3</th>\n",
              "      <td>Shape of You</td>\n",
              "      <td>÷ (Divide)</td>\n",
              "      <td>Ed Sheeran</td>\n",
              "      <td>3:53</td>\n",
              "      <td>2017</td>\n",
              "      <td>Pop</td>\n",
              "    </tr>\n",
              "    <tr>\n",
              "      <th>4</th>\n",
              "      <td>Hotel California</td>\n",
              "      <td>Hotel California</td>\n",
              "      <td>Eagles</td>\n",
              "      <td>6:30</td>\n",
              "      <td>1976</td>\n",
              "      <td>Rock</td>\n",
              "    </tr>\n",
              "  </tbody>\n",
              "</table>\n",
              "</div>\n",
              "    <div class=\"colab-df-buttons\">\n",
              "\n",
              "  <div class=\"colab-df-container\">\n",
              "    <button class=\"colab-df-convert\" onclick=\"convertToInteractive('df-6e220492-b0df-4c7b-9023-1af3887c7bc7')\"\n",
              "            title=\"Convert this dataframe to an interactive table.\"\n",
              "            style=\"display:none;\">\n",
              "\n",
              "  <svg xmlns=\"http://www.w3.org/2000/svg\" height=\"24px\" viewBox=\"0 -960 960 960\">\n",
              "    <path d=\"M120-120v-720h720v720H120Zm60-500h600v-160H180v160Zm220 220h160v-160H400v160Zm0 220h160v-160H400v160ZM180-400h160v-160H180v160Zm440 0h160v-160H620v160ZM180-180h160v-160H180v160Zm440 0h160v-160H620v160Z\"/>\n",
              "  </svg>\n",
              "    </button>\n",
              "\n",
              "  <style>\n",
              "    .colab-df-container {\n",
              "      display:flex;\n",
              "      gap: 12px;\n",
              "    }\n",
              "\n",
              "    .colab-df-convert {\n",
              "      background-color: #E8F0FE;\n",
              "      border: none;\n",
              "      border-radius: 50%;\n",
              "      cursor: pointer;\n",
              "      display: none;\n",
              "      fill: #1967D2;\n",
              "      height: 32px;\n",
              "      padding: 0 0 0 0;\n",
              "      width: 32px;\n",
              "    }\n",
              "\n",
              "    .colab-df-convert:hover {\n",
              "      background-color: #E2EBFA;\n",
              "      box-shadow: 0px 1px 2px rgba(60, 64, 67, 0.3), 0px 1px 3px 1px rgba(60, 64, 67, 0.15);\n",
              "      fill: #174EA6;\n",
              "    }\n",
              "\n",
              "    .colab-df-buttons div {\n",
              "      margin-bottom: 4px;\n",
              "    }\n",
              "\n",
              "    [theme=dark] .colab-df-convert {\n",
              "      background-color: #3B4455;\n",
              "      fill: #D2E3FC;\n",
              "    }\n",
              "\n",
              "    [theme=dark] .colab-df-convert:hover {\n",
              "      background-color: #434B5C;\n",
              "      box-shadow: 0px 1px 3px 1px rgba(0, 0, 0, 0.15);\n",
              "      filter: drop-shadow(0px 1px 2px rgba(0, 0, 0, 0.3));\n",
              "      fill: #FFFFFF;\n",
              "    }\n",
              "  </style>\n",
              "\n",
              "    <script>\n",
              "      const buttonEl =\n",
              "        document.querySelector('#df-6e220492-b0df-4c7b-9023-1af3887c7bc7 button.colab-df-convert');\n",
              "      buttonEl.style.display =\n",
              "        google.colab.kernel.accessAllowed ? 'block' : 'none';\n",
              "\n",
              "      async function convertToInteractive(key) {\n",
              "        const element = document.querySelector('#df-6e220492-b0df-4c7b-9023-1af3887c7bc7');\n",
              "        const dataTable =\n",
              "          await google.colab.kernel.invokeFunction('convertToInteractive',\n",
              "                                                    [key], {});\n",
              "        if (!dataTable) return;\n",
              "\n",
              "        const docLinkHtml = 'Like what you see? Visit the ' +\n",
              "          '<a target=\"_blank\" href=https://colab.research.google.com/notebooks/data_table.ipynb>data table notebook</a>'\n",
              "          + ' to learn more about interactive tables.';\n",
              "        element.innerHTML = '';\n",
              "        dataTable['output_type'] = 'display_data';\n",
              "        await google.colab.output.renderOutput(dataTable, element);\n",
              "        const docLink = document.createElement('div');\n",
              "        docLink.innerHTML = docLinkHtml;\n",
              "        element.appendChild(docLink);\n",
              "      }\n",
              "    </script>\n",
              "  </div>\n",
              "\n",
              "\n",
              "<div id=\"df-e19da5f1-15ac-4587-9c11-242927e608f4\">\n",
              "  <button class=\"colab-df-quickchart\" onclick=\"quickchart('df-e19da5f1-15ac-4587-9c11-242927e608f4')\"\n",
              "            title=\"Suggest charts\"\n",
              "            style=\"display:none;\">\n",
              "\n",
              "<svg xmlns=\"http://www.w3.org/2000/svg\" height=\"24px\"viewBox=\"0 0 24 24\"\n",
              "     width=\"24px\">\n",
              "    <g>\n",
              "        <path d=\"M19 3H5c-1.1 0-2 .9-2 2v14c0 1.1.9 2 2 2h14c1.1 0 2-.9 2-2V5c0-1.1-.9-2-2-2zM9 17H7v-7h2v7zm4 0h-2V7h2v10zm4 0h-2v-4h2v4z\"/>\n",
              "    </g>\n",
              "</svg>\n",
              "  </button>\n",
              "\n",
              "<style>\n",
              "  .colab-df-quickchart {\n",
              "      --bg-color: #E8F0FE;\n",
              "      --fill-color: #1967D2;\n",
              "      --hover-bg-color: #E2EBFA;\n",
              "      --hover-fill-color: #174EA6;\n",
              "      --disabled-fill-color: #AAA;\n",
              "      --disabled-bg-color: #DDD;\n",
              "  }\n",
              "\n",
              "  [theme=dark] .colab-df-quickchart {\n",
              "      --bg-color: #3B4455;\n",
              "      --fill-color: #D2E3FC;\n",
              "      --hover-bg-color: #434B5C;\n",
              "      --hover-fill-color: #FFFFFF;\n",
              "      --disabled-bg-color: #3B4455;\n",
              "      --disabled-fill-color: #666;\n",
              "  }\n",
              "\n",
              "  .colab-df-quickchart {\n",
              "    background-color: var(--bg-color);\n",
              "    border: none;\n",
              "    border-radius: 50%;\n",
              "    cursor: pointer;\n",
              "    display: none;\n",
              "    fill: var(--fill-color);\n",
              "    height: 32px;\n",
              "    padding: 0;\n",
              "    width: 32px;\n",
              "  }\n",
              "\n",
              "  .colab-df-quickchart:hover {\n",
              "    background-color: var(--hover-bg-color);\n",
              "    box-shadow: 0 1px 2px rgba(60, 64, 67, 0.3), 0 1px 3px 1px rgba(60, 64, 67, 0.15);\n",
              "    fill: var(--button-hover-fill-color);\n",
              "  }\n",
              "\n",
              "  .colab-df-quickchart-complete:disabled,\n",
              "  .colab-df-quickchart-complete:disabled:hover {\n",
              "    background-color: var(--disabled-bg-color);\n",
              "    fill: var(--disabled-fill-color);\n",
              "    box-shadow: none;\n",
              "  }\n",
              "\n",
              "  .colab-df-spinner {\n",
              "    border: 2px solid var(--fill-color);\n",
              "    border-color: transparent;\n",
              "    border-bottom-color: var(--fill-color);\n",
              "    animation:\n",
              "      spin 1s steps(1) infinite;\n",
              "  }\n",
              "\n",
              "  @keyframes spin {\n",
              "    0% {\n",
              "      border-color: transparent;\n",
              "      border-bottom-color: var(--fill-color);\n",
              "      border-left-color: var(--fill-color);\n",
              "    }\n",
              "    20% {\n",
              "      border-color: transparent;\n",
              "      border-left-color: var(--fill-color);\n",
              "      border-top-color: var(--fill-color);\n",
              "    }\n",
              "    30% {\n",
              "      border-color: transparent;\n",
              "      border-left-color: var(--fill-color);\n",
              "      border-top-color: var(--fill-color);\n",
              "      border-right-color: var(--fill-color);\n",
              "    }\n",
              "    40% {\n",
              "      border-color: transparent;\n",
              "      border-right-color: var(--fill-color);\n",
              "      border-top-color: var(--fill-color);\n",
              "    }\n",
              "    60% {\n",
              "      border-color: transparent;\n",
              "      border-right-color: var(--fill-color);\n",
              "    }\n",
              "    80% {\n",
              "      border-color: transparent;\n",
              "      border-right-color: var(--fill-color);\n",
              "      border-bottom-color: var(--fill-color);\n",
              "    }\n",
              "    90% {\n",
              "      border-color: transparent;\n",
              "      border-bottom-color: var(--fill-color);\n",
              "    }\n",
              "  }\n",
              "</style>\n",
              "\n",
              "  <script>\n",
              "    async function quickchart(key) {\n",
              "      const quickchartButtonEl =\n",
              "        document.querySelector('#' + key + ' button');\n",
              "      quickchartButtonEl.disabled = true;  // To prevent multiple clicks.\n",
              "      quickchartButtonEl.classList.add('colab-df-spinner');\n",
              "      try {\n",
              "        const charts = await google.colab.kernel.invokeFunction(\n",
              "            'suggestCharts', [key], {});\n",
              "      } catch (error) {\n",
              "        console.error('Error during call to suggestCharts:', error);\n",
              "      }\n",
              "      quickchartButtonEl.classList.remove('colab-df-spinner');\n",
              "      quickchartButtonEl.classList.add('colab-df-quickchart-complete');\n",
              "    }\n",
              "    (() => {\n",
              "      let quickchartButtonEl =\n",
              "        document.querySelector('#df-e19da5f1-15ac-4587-9c11-242927e608f4 button');\n",
              "      quickchartButtonEl.style.display =\n",
              "        google.colab.kernel.accessAllowed ? 'block' : 'none';\n",
              "    })();\n",
              "  </script>\n",
              "</div>\n",
              "\n",
              "    </div>\n",
              "  </div>\n"
            ],
            "application/vnd.google.colaboratory.intrinsic+json": {
              "type": "dataframe",
              "summary": "{\n  \"name\": \"df\",\n  \"rows\": 5,\n  \"fields\": [\n    {\n      \"column\": \"Nome\",\n      \"properties\": {\n        \"dtype\": \"string\",\n        \"num_unique_values\": 5,\n        \"samples\": [\n          \"Billie Jean\",\n          \"Hotel California\",\n          \"Stairway to Heaven\"\n        ],\n        \"semantic_type\": \"\",\n        \"description\": \"\"\n      }\n    },\n    {\n      \"column\": \"Album\",\n      \"properties\": {\n        \"dtype\": \"string\",\n        \"num_unique_values\": 5,\n        \"samples\": [\n          \"Thriller\",\n          \"Hotel California\",\n          \"Led Zeppelin IV\"\n        ],\n        \"semantic_type\": \"\",\n        \"description\": \"\"\n      }\n    },\n    {\n      \"column\": \"Artista\",\n      \"properties\": {\n        \"dtype\": \"string\",\n        \"num_unique_values\": 5,\n        \"samples\": [\n          \"Michael Jackson\",\n          \"Eagles\",\n          \"Led Zeppelin\"\n        ],\n        \"semantic_type\": \"\",\n        \"description\": \"\"\n      }\n    },\n    {\n      \"column\": \"Dura\\u00e7\\u00e3o\",\n      \"properties\": {\n        \"dtype\": \"object\",\n        \"num_unique_values\": 5,\n        \"samples\": [\n          \"4:54\",\n          \"6:30\",\n          \"8:02\"\n        ],\n        \"semantic_type\": \"\",\n        \"description\": \"\"\n      }\n    },\n    {\n      \"column\": \"Ano de Lan\\u00e7amento\",\n      \"properties\": {\n        \"dtype\": \"number\",\n        \"std\": 18,\n        \"min\": 1971,\n        \"max\": 2017,\n        \"num_unique_values\": 5,\n        \"samples\": [\n          1982,\n          1976,\n          1971\n        ],\n        \"semantic_type\": \"\",\n        \"description\": \"\"\n      }\n    },\n    {\n      \"column\": \"G\\u00eanero\",\n      \"properties\": {\n        \"dtype\": \"category\",\n        \"num_unique_values\": 2,\n        \"samples\": [\n          \"Pop\",\n          \"Rock\"\n        ],\n        \"semantic_type\": \"\",\n        \"description\": \"\"\n      }\n    }\n  ]\n}"
            }
          },
          "metadata": {},
          "execution_count": 82
        }
      ]
    },
    {
      "cell_type": "markdown",
      "source": [
        "#Questão 6\n",
        "**6. Exclua um item (linha) de sua base de dados**\n",
        "\n",
        "\n",
        "  Você deve remover um item (linha) específico da base de dados"
      ],
      "metadata": {
        "id": "N8XdABpPqMvt"
      }
    },
    {
      "cell_type": "code",
      "source": [
        "df.drop([2])"
      ],
      "metadata": {
        "colab": {
          "base_uri": "https://localhost:8080/",
          "height": 238
        },
        "id": "p7Q6J1KohynW",
        "outputId": "cf1ad22a-f127-4533-9eab-de86d5f77333"
      },
      "execution_count": null,
      "outputs": [
        {
          "output_type": "execute_result",
          "data": {
            "text/plain": [
              "                Nome                 Album                       Artista  \\\n",
              "0  Bohemian Rhapsody  A Night at the Opera                         Queen   \n",
              "1        Billie Jean              Thriller               Michael Jackson   \n",
              "3       Shape of You            ÷ (Divide)                    Ed Sheeran   \n",
              "4   Hotel California      Hotel California                        Eagles   \n",
              "5        Uptown Funk        Uptown Special  Mark Ronson feat. Bruno Mars   \n",
              "6            Imagine               Imagine                   John Lennon   \n",
              "\n",
              "  Duração  Ano de Lançamento Gênero  \n",
              "0    5:55               1975   Rock  \n",
              "1    4:54               1982    Pop  \n",
              "3    3:53               2017    Pop  \n",
              "4    6:30               1976   Rock  \n",
              "5    4:30               2014    Pop  \n",
              "6    3:03               1971   Rock  "
            ],
            "text/html": [
              "\n",
              "  <div id=\"df-2a97bd4d-e93f-4f05-b7d0-bf7444943eeb\" class=\"colab-df-container\">\n",
              "    <div>\n",
              "<style scoped>\n",
              "    .dataframe tbody tr th:only-of-type {\n",
              "        vertical-align: middle;\n",
              "    }\n",
              "\n",
              "    .dataframe tbody tr th {\n",
              "        vertical-align: top;\n",
              "    }\n",
              "\n",
              "    .dataframe thead th {\n",
              "        text-align: right;\n",
              "    }\n",
              "</style>\n",
              "<table border=\"1\" class=\"dataframe\">\n",
              "  <thead>\n",
              "    <tr style=\"text-align: right;\">\n",
              "      <th></th>\n",
              "      <th>Nome</th>\n",
              "      <th>Album</th>\n",
              "      <th>Artista</th>\n",
              "      <th>Duração</th>\n",
              "      <th>Ano de Lançamento</th>\n",
              "      <th>Gênero</th>\n",
              "    </tr>\n",
              "  </thead>\n",
              "  <tbody>\n",
              "    <tr>\n",
              "      <th>0</th>\n",
              "      <td>Bohemian Rhapsody</td>\n",
              "      <td>A Night at the Opera</td>\n",
              "      <td>Queen</td>\n",
              "      <td>5:55</td>\n",
              "      <td>1975</td>\n",
              "      <td>Rock</td>\n",
              "    </tr>\n",
              "    <tr>\n",
              "      <th>1</th>\n",
              "      <td>Billie Jean</td>\n",
              "      <td>Thriller</td>\n",
              "      <td>Michael Jackson</td>\n",
              "      <td>4:54</td>\n",
              "      <td>1982</td>\n",
              "      <td>Pop</td>\n",
              "    </tr>\n",
              "    <tr>\n",
              "      <th>3</th>\n",
              "      <td>Shape of You</td>\n",
              "      <td>÷ (Divide)</td>\n",
              "      <td>Ed Sheeran</td>\n",
              "      <td>3:53</td>\n",
              "      <td>2017</td>\n",
              "      <td>Pop</td>\n",
              "    </tr>\n",
              "    <tr>\n",
              "      <th>4</th>\n",
              "      <td>Hotel California</td>\n",
              "      <td>Hotel California</td>\n",
              "      <td>Eagles</td>\n",
              "      <td>6:30</td>\n",
              "      <td>1976</td>\n",
              "      <td>Rock</td>\n",
              "    </tr>\n",
              "    <tr>\n",
              "      <th>5</th>\n",
              "      <td>Uptown Funk</td>\n",
              "      <td>Uptown Special</td>\n",
              "      <td>Mark Ronson feat. Bruno Mars</td>\n",
              "      <td>4:30</td>\n",
              "      <td>2014</td>\n",
              "      <td>Pop</td>\n",
              "    </tr>\n",
              "    <tr>\n",
              "      <th>6</th>\n",
              "      <td>Imagine</td>\n",
              "      <td>Imagine</td>\n",
              "      <td>John Lennon</td>\n",
              "      <td>3:03</td>\n",
              "      <td>1971</td>\n",
              "      <td>Rock</td>\n",
              "    </tr>\n",
              "  </tbody>\n",
              "</table>\n",
              "</div>\n",
              "    <div class=\"colab-df-buttons\">\n",
              "\n",
              "  <div class=\"colab-df-container\">\n",
              "    <button class=\"colab-df-convert\" onclick=\"convertToInteractive('df-2a97bd4d-e93f-4f05-b7d0-bf7444943eeb')\"\n",
              "            title=\"Convert this dataframe to an interactive table.\"\n",
              "            style=\"display:none;\">\n",
              "\n",
              "  <svg xmlns=\"http://www.w3.org/2000/svg\" height=\"24px\" viewBox=\"0 -960 960 960\">\n",
              "    <path d=\"M120-120v-720h720v720H120Zm60-500h600v-160H180v160Zm220 220h160v-160H400v160Zm0 220h160v-160H400v160ZM180-400h160v-160H180v160Zm440 0h160v-160H620v160ZM180-180h160v-160H180v160Zm440 0h160v-160H620v160Z\"/>\n",
              "  </svg>\n",
              "    </button>\n",
              "\n",
              "  <style>\n",
              "    .colab-df-container {\n",
              "      display:flex;\n",
              "      gap: 12px;\n",
              "    }\n",
              "\n",
              "    .colab-df-convert {\n",
              "      background-color: #E8F0FE;\n",
              "      border: none;\n",
              "      border-radius: 50%;\n",
              "      cursor: pointer;\n",
              "      display: none;\n",
              "      fill: #1967D2;\n",
              "      height: 32px;\n",
              "      padding: 0 0 0 0;\n",
              "      width: 32px;\n",
              "    }\n",
              "\n",
              "    .colab-df-convert:hover {\n",
              "      background-color: #E2EBFA;\n",
              "      box-shadow: 0px 1px 2px rgba(60, 64, 67, 0.3), 0px 1px 3px 1px rgba(60, 64, 67, 0.15);\n",
              "      fill: #174EA6;\n",
              "    }\n",
              "\n",
              "    .colab-df-buttons div {\n",
              "      margin-bottom: 4px;\n",
              "    }\n",
              "\n",
              "    [theme=dark] .colab-df-convert {\n",
              "      background-color: #3B4455;\n",
              "      fill: #D2E3FC;\n",
              "    }\n",
              "\n",
              "    [theme=dark] .colab-df-convert:hover {\n",
              "      background-color: #434B5C;\n",
              "      box-shadow: 0px 1px 3px 1px rgba(0, 0, 0, 0.15);\n",
              "      filter: drop-shadow(0px 1px 2px rgba(0, 0, 0, 0.3));\n",
              "      fill: #FFFFFF;\n",
              "    }\n",
              "  </style>\n",
              "\n",
              "    <script>\n",
              "      const buttonEl =\n",
              "        document.querySelector('#df-2a97bd4d-e93f-4f05-b7d0-bf7444943eeb button.colab-df-convert');\n",
              "      buttonEl.style.display =\n",
              "        google.colab.kernel.accessAllowed ? 'block' : 'none';\n",
              "\n",
              "      async function convertToInteractive(key) {\n",
              "        const element = document.querySelector('#df-2a97bd4d-e93f-4f05-b7d0-bf7444943eeb');\n",
              "        const dataTable =\n",
              "          await google.colab.kernel.invokeFunction('convertToInteractive',\n",
              "                                                    [key], {});\n",
              "        if (!dataTable) return;\n",
              "\n",
              "        const docLinkHtml = 'Like what you see? Visit the ' +\n",
              "          '<a target=\"_blank\" href=https://colab.research.google.com/notebooks/data_table.ipynb>data table notebook</a>'\n",
              "          + ' to learn more about interactive tables.';\n",
              "        element.innerHTML = '';\n",
              "        dataTable['output_type'] = 'display_data';\n",
              "        await google.colab.output.renderOutput(dataTable, element);\n",
              "        const docLink = document.createElement('div');\n",
              "        docLink.innerHTML = docLinkHtml;\n",
              "        element.appendChild(docLink);\n",
              "      }\n",
              "    </script>\n",
              "  </div>\n",
              "\n",
              "\n",
              "<div id=\"df-0fc4bb92-1770-427a-b23e-95b6d37ed6c0\">\n",
              "  <button class=\"colab-df-quickchart\" onclick=\"quickchart('df-0fc4bb92-1770-427a-b23e-95b6d37ed6c0')\"\n",
              "            title=\"Suggest charts\"\n",
              "            style=\"display:none;\">\n",
              "\n",
              "<svg xmlns=\"http://www.w3.org/2000/svg\" height=\"24px\"viewBox=\"0 0 24 24\"\n",
              "     width=\"24px\">\n",
              "    <g>\n",
              "        <path d=\"M19 3H5c-1.1 0-2 .9-2 2v14c0 1.1.9 2 2 2h14c1.1 0 2-.9 2-2V5c0-1.1-.9-2-2-2zM9 17H7v-7h2v7zm4 0h-2V7h2v10zm4 0h-2v-4h2v4z\"/>\n",
              "    </g>\n",
              "</svg>\n",
              "  </button>\n",
              "\n",
              "<style>\n",
              "  .colab-df-quickchart {\n",
              "      --bg-color: #E8F0FE;\n",
              "      --fill-color: #1967D2;\n",
              "      --hover-bg-color: #E2EBFA;\n",
              "      --hover-fill-color: #174EA6;\n",
              "      --disabled-fill-color: #AAA;\n",
              "      --disabled-bg-color: #DDD;\n",
              "  }\n",
              "\n",
              "  [theme=dark] .colab-df-quickchart {\n",
              "      --bg-color: #3B4455;\n",
              "      --fill-color: #D2E3FC;\n",
              "      --hover-bg-color: #434B5C;\n",
              "      --hover-fill-color: #FFFFFF;\n",
              "      --disabled-bg-color: #3B4455;\n",
              "      --disabled-fill-color: #666;\n",
              "  }\n",
              "\n",
              "  .colab-df-quickchart {\n",
              "    background-color: var(--bg-color);\n",
              "    border: none;\n",
              "    border-radius: 50%;\n",
              "    cursor: pointer;\n",
              "    display: none;\n",
              "    fill: var(--fill-color);\n",
              "    height: 32px;\n",
              "    padding: 0;\n",
              "    width: 32px;\n",
              "  }\n",
              "\n",
              "  .colab-df-quickchart:hover {\n",
              "    background-color: var(--hover-bg-color);\n",
              "    box-shadow: 0 1px 2px rgba(60, 64, 67, 0.3), 0 1px 3px 1px rgba(60, 64, 67, 0.15);\n",
              "    fill: var(--button-hover-fill-color);\n",
              "  }\n",
              "\n",
              "  .colab-df-quickchart-complete:disabled,\n",
              "  .colab-df-quickchart-complete:disabled:hover {\n",
              "    background-color: var(--disabled-bg-color);\n",
              "    fill: var(--disabled-fill-color);\n",
              "    box-shadow: none;\n",
              "  }\n",
              "\n",
              "  .colab-df-spinner {\n",
              "    border: 2px solid var(--fill-color);\n",
              "    border-color: transparent;\n",
              "    border-bottom-color: var(--fill-color);\n",
              "    animation:\n",
              "      spin 1s steps(1) infinite;\n",
              "  }\n",
              "\n",
              "  @keyframes spin {\n",
              "    0% {\n",
              "      border-color: transparent;\n",
              "      border-bottom-color: var(--fill-color);\n",
              "      border-left-color: var(--fill-color);\n",
              "    }\n",
              "    20% {\n",
              "      border-color: transparent;\n",
              "      border-left-color: var(--fill-color);\n",
              "      border-top-color: var(--fill-color);\n",
              "    }\n",
              "    30% {\n",
              "      border-color: transparent;\n",
              "      border-left-color: var(--fill-color);\n",
              "      border-top-color: var(--fill-color);\n",
              "      border-right-color: var(--fill-color);\n",
              "    }\n",
              "    40% {\n",
              "      border-color: transparent;\n",
              "      border-right-color: var(--fill-color);\n",
              "      border-top-color: var(--fill-color);\n",
              "    }\n",
              "    60% {\n",
              "      border-color: transparent;\n",
              "      border-right-color: var(--fill-color);\n",
              "    }\n",
              "    80% {\n",
              "      border-color: transparent;\n",
              "      border-right-color: var(--fill-color);\n",
              "      border-bottom-color: var(--fill-color);\n",
              "    }\n",
              "    90% {\n",
              "      border-color: transparent;\n",
              "      border-bottom-color: var(--fill-color);\n",
              "    }\n",
              "  }\n",
              "</style>\n",
              "\n",
              "  <script>\n",
              "    async function quickchart(key) {\n",
              "      const quickchartButtonEl =\n",
              "        document.querySelector('#' + key + ' button');\n",
              "      quickchartButtonEl.disabled = true;  // To prevent multiple clicks.\n",
              "      quickchartButtonEl.classList.add('colab-df-spinner');\n",
              "      try {\n",
              "        const charts = await google.colab.kernel.invokeFunction(\n",
              "            'suggestCharts', [key], {});\n",
              "      } catch (error) {\n",
              "        console.error('Error during call to suggestCharts:', error);\n",
              "      }\n",
              "      quickchartButtonEl.classList.remove('colab-df-spinner');\n",
              "      quickchartButtonEl.classList.add('colab-df-quickchart-complete');\n",
              "    }\n",
              "    (() => {\n",
              "      let quickchartButtonEl =\n",
              "        document.querySelector('#df-0fc4bb92-1770-427a-b23e-95b6d37ed6c0 button');\n",
              "      quickchartButtonEl.style.display =\n",
              "        google.colab.kernel.accessAllowed ? 'block' : 'none';\n",
              "    })();\n",
              "  </script>\n",
              "</div>\n",
              "\n",
              "    </div>\n",
              "  </div>\n"
            ],
            "application/vnd.google.colaboratory.intrinsic+json": {
              "type": "dataframe",
              "summary": "{\n  \"name\": \"df\",\n  \"rows\": 6,\n  \"fields\": [\n    {\n      \"column\": \"Nome\",\n      \"properties\": {\n        \"dtype\": \"string\",\n        \"num_unique_values\": 6,\n        \"samples\": [\n          \"Bohemian Rhapsody\",\n          \"Billie Jean\",\n          \"Imagine\"\n        ],\n        \"semantic_type\": \"\",\n        \"description\": \"\"\n      }\n    },\n    {\n      \"column\": \"Album\",\n      \"properties\": {\n        \"dtype\": \"string\",\n        \"num_unique_values\": 6,\n        \"samples\": [\n          \"A Night at the Opera\",\n          \"Thriller\",\n          \"Imagine\"\n        ],\n        \"semantic_type\": \"\",\n        \"description\": \"\"\n      }\n    },\n    {\n      \"column\": \"Artista\",\n      \"properties\": {\n        \"dtype\": \"string\",\n        \"num_unique_values\": 6,\n        \"samples\": [\n          \"Queen\",\n          \"Michael Jackson\",\n          \"John Lennon\"\n        ],\n        \"semantic_type\": \"\",\n        \"description\": \"\"\n      }\n    },\n    {\n      \"column\": \"Dura\\u00e7\\u00e3o\",\n      \"properties\": {\n        \"dtype\": \"object\",\n        \"num_unique_values\": 6,\n        \"samples\": [\n          \"5:55\",\n          \"4:54\",\n          \"3:03\"\n        ],\n        \"semantic_type\": \"\",\n        \"description\": \"\"\n      }\n    },\n    {\n      \"column\": \"Ano de Lan\\u00e7amento\",\n      \"properties\": {\n        \"dtype\": \"number\",\n        \"std\": 20,\n        \"min\": 1971,\n        \"max\": 2017,\n        \"num_unique_values\": 6,\n        \"samples\": [\n          1975,\n          1982,\n          1971\n        ],\n        \"semantic_type\": \"\",\n        \"description\": \"\"\n      }\n    },\n    {\n      \"column\": \"G\\u00eanero\",\n      \"properties\": {\n        \"dtype\": \"category\",\n        \"num_unique_values\": 2,\n        \"samples\": [\n          \"Pop\",\n          \"Rock\"\n        ],\n        \"semantic_type\": \"\",\n        \"description\": \"\"\n      }\n    }\n  ]\n}"
            }
          },
          "metadata": {},
          "execution_count": 83
        }
      ]
    },
    {
      "cell_type": "markdown",
      "source": [
        "#Questão 7\n",
        "**7. Adicione um item (linha) na sua base de dados**\n",
        "\n",
        "\n",
        "Você deve adicionar um novo item (linha) à base de dados."
      ],
      "metadata": {
        "id": "dK-wrJSxqM9G"
      }
    },
    {
      "cell_type": "code",
      "source": [
        "nova_musica = {\n",
        "    \"Nome\": [\"Smells Like Teen Spirit\"],\n",
        "    \"Album\": [\"Nevermind\"],\n",
        "    \"Artista\": [\"Nirvana\"],\n",
        "    \"Duração\": [\"5:01\"],\n",
        "    \"Ano de Lançamento\": [1991],\n",
        "    \"Gênero\": [\"Rock\"]\n",
        "}\n",
        "df_nova_musica = pd.DataFrame(nova_musica)\n",
        "df_add = pd.concat([df, df_nova_musica], ignore_index=True)\n",
        "print(df_add)"
      ],
      "metadata": {
        "colab": {
          "base_uri": "https://localhost:8080/"
        },
        "id": "SUVvnCXZjvam",
        "outputId": "95d117e8-1b25-463c-aff3-4cc28009df28"
      },
      "execution_count": null,
      "outputs": [
        {
          "output_type": "stream",
          "name": "stdout",
          "text": [
            "                      Nome                 Album  \\\n",
            "0        Bohemian Rhapsody  A Night at the Opera   \n",
            "1              Billie Jean              Thriller   \n",
            "2       Stairway to Heaven       Led Zeppelin IV   \n",
            "3             Shape of You            ÷ (Divide)   \n",
            "4         Hotel California      Hotel California   \n",
            "5              Uptown Funk        Uptown Special   \n",
            "6                  Imagine               Imagine   \n",
            "7  Smells Like Teen Spirit             Nevermind   \n",
            "\n",
            "                        Artista Duração  Ano de Lançamento Gênero  \n",
            "0                         Queen    5:55               1975   Rock  \n",
            "1               Michael Jackson    4:54               1982    Pop  \n",
            "2                  Led Zeppelin    8:02               1971   Rock  \n",
            "3                    Ed Sheeran    3:53               2017    Pop  \n",
            "4                        Eagles    6:30               1976   Rock  \n",
            "5  Mark Ronson feat. Bruno Mars    4:30               2014    Pop  \n",
            "6                   John Lennon    3:03               1971   Rock  \n",
            "7                       Nirvana    5:01               1991   Rock  \n"
          ]
        }
      ]
    },
    {
      "cell_type": "markdown",
      "source": [
        "#Questão 8\n",
        "**8. Transponha a coluna para a linha em sua base de dados**\n",
        "\n",
        "\n",
        "Você deve realizar a transposição de uma coluna para uma linha na base de dados."
      ],
      "metadata": {
        "id": "-b6CDrGhqNMd"
      }
    },
    {
      "cell_type": "code",
      "source": [
        "print(df.T)"
      ],
      "metadata": {
        "colab": {
          "base_uri": "https://localhost:8080/"
        },
        "id": "nKy5X6SujJzo",
        "outputId": "8f91a2bf-64c2-4924-db38-0799e0463de3"
      },
      "execution_count": null,
      "outputs": [
        {
          "output_type": "stream",
          "name": "stdout",
          "text": [
            "                                      0                1                   2  \\\n",
            "Nome                  Bohemian Rhapsody      Billie Jean  Stairway to Heaven   \n",
            "Album              A Night at the Opera         Thriller     Led Zeppelin IV   \n",
            "Artista                           Queen  Michael Jackson        Led Zeppelin   \n",
            "Duração                            5:55             4:54                8:02   \n",
            "Ano de Lançamento                  1975             1982                1971   \n",
            "Gênero                             Rock              Pop                Rock   \n",
            "\n",
            "                              3                 4  \\\n",
            "Nome               Shape of You  Hotel California   \n",
            "Album                ÷ (Divide)  Hotel California   \n",
            "Artista              Ed Sheeran            Eagles   \n",
            "Duração                    3:53              6:30   \n",
            "Ano de Lançamento          2017              1976   \n",
            "Gênero                      Pop              Rock   \n",
            "\n",
            "                                              5            6  \n",
            "Nome                                Uptown Funk      Imagine  \n",
            "Album                            Uptown Special      Imagine  \n",
            "Artista            Mark Ronson feat. Bruno Mars  John Lennon  \n",
            "Duração                                    4:30         3:03  \n",
            "Ano de Lançamento                          2014         1971  \n",
            "Gênero                                      Pop         Rock  \n"
          ]
        }
      ]
    },
    {
      "cell_type": "markdown",
      "source": [
        "#Questão 9\n",
        "**9. Apresente em tela somente a 1ª e a 2ª coluna (rótulo) da base de dados**\n",
        "\n",
        "\n",
        "Você deve exibir apenas as colunas 1 e 2 (rótulo) da base de dados."
      ],
      "metadata": {
        "id": "l2wG42cQqNYd"
      }
    },
    {
      "cell_type": "code",
      "source": [
        "print(df.iloc[:, [0, 1]])"
      ],
      "metadata": {
        "colab": {
          "base_uri": "https://localhost:8080/"
        },
        "id": "U53fDOlRjahi",
        "outputId": "49772d06-3175-4695-8603-64722c37d9fa"
      },
      "execution_count": null,
      "outputs": [
        {
          "output_type": "stream",
          "name": "stdout",
          "text": [
            "                 Nome                 Album\n",
            "0   Bohemian Rhapsody  A Night at the Opera\n",
            "1         Billie Jean              Thriller\n",
            "2  Stairway to Heaven       Led Zeppelin IV\n",
            "3        Shape of You            ÷ (Divide)\n",
            "4    Hotel California      Hotel California\n",
            "5         Uptown Funk        Uptown Special\n",
            "6             Imagine               Imagine\n"
          ]
        }
      ]
    },
    {
      "cell_type": "markdown",
      "source": [
        "#Questão 10\n",
        "**10. Informe como foi desenvolvido do Projeto**\n",
        "\n",
        "\n",
        "Você deve fornecer uma breve descrição de como o projeto foi desenvolvido, quais técnicas e\n",
        "ferramentas foram utilizadas, e quais foram os principais desafios encontrados durante o\n",
        "desenvolvimento"
      ],
      "metadata": {
        "id": "M2aJlS9uqNnm"
      }
    },
    {
      "cell_type": "markdown",
      "source": [
        "Meu projeto foi desenvolvido com base em algumas musicas que eu gosto, utilizei a biblioteca Pandas e o método de dícionario pra criar o data frame, e o principal desafio por incrivel que pareça, foi adicionar uma linha, tentei apelar pras IAs mas nem elas conseguiram me ajudar, acabei conseguindo mas duvido que seja o método mais pratico"
      ],
      "metadata": {
        "id": "yvPwCDVjrWcP"
      }
    }
  ]
}