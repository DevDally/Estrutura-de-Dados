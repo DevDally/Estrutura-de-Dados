{
  "nbformat": 4,
  "nbformat_minor": 0,
  "metadata": {
    "colab": {
      "provenance": [],
      "authorship_tag": "ABX9TyM57uYBqpiJVHP1Xnqun3qT",
      "include_colab_link": true
    },
    "kernelspec": {
      "name": "python3",
      "display_name": "Python 3"
    },
    "language_info": {
      "name": "python"
    }
  },
  "cells": [
    {
      "cell_type": "markdown",
      "metadata": {
        "id": "view-in-github",
        "colab_type": "text"
      },
      "source": [
        "<a href=\"https://colab.research.google.com/github/DevDally/Estrutura-de-Dados/blob/main/Heliporto_dataframe.ipynb\" target=\"_parent\"><img src=\"https://colab.research.google.com/assets/colab-badge.svg\" alt=\"Open In Colab\"/></a>"
      ]
    },
    {
      "cell_type": "code",
      "source": [
        "import pandas as pd\n",
        "dados = [(\"Heliporto Juscelino Kubitschek\",\"Aeroporto Internacional de Brasília Lago Sul, Brasília - DF, 71608-900, Brasil\"),(\"Heliporto da Funarte\",\"Eixo Monumental, Lado Oeste, Quadra 2 Brasília - DF, 70070-350, Brasil\")]"
      ],
      "metadata": {
        "id": "xp6fDFobPFgt"
      },
      "execution_count": null,
      "outputs": []
    }
  ]
}