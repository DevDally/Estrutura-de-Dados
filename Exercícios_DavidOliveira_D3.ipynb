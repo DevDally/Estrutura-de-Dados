{
  "nbformat": 4,
  "nbformat_minor": 0,
  "metadata": {
    "colab": {
      "provenance": [],
      "authorship_tag": "ABX9TyOobI4ddTJWhNxCuvEGvZmN",
      "include_colab_link": true
    },
    "kernelspec": {
      "name": "python3",
      "display_name": "Python 3"
    },
    "language_info": {
      "name": "python"
    }
  },
  "cells": [
    {
      "cell_type": "markdown",
      "metadata": {
        "id": "view-in-github",
        "colab_type": "text"
      },
      "source": [
        "<a href=\"https://colab.research.google.com/github/DevDally/Estrutura-de-Dados/blob/main/Exerc%C3%ADcios_DavidOliveira_D3.ipynb\" target=\"_parent\"><img src=\"https://colab.research.google.com/assets/colab-badge.svg\" alt=\"Open In Colab\"/></a>"
      ]
    },
    {
      "cell_type": "markdown",
      "source": [
        "# Exercício com lista em python\n",
        "\n",
        "\n",
        "\n"
      ],
      "metadata": {
        "id": "S8zsioso8dr5"
      }
    },
    {
      "cell_type": "code",
      "execution_count": null,
      "metadata": {
        "colab": {
          "base_uri": "https://localhost:8080/"
        },
        "id": "2oT28Uws8aHM",
        "outputId": "588b26c7-8428-49e1-f8a2-ccd175d303ba"
      },
      "outputs": [
        {
          "output_type": "stream",
          "name": "stdout",
          "text": [
            "['Eduardo', 'Kauâ', 'Victor', 'Felipe', 'Rafael', 'Gabriel', 'Agelo', 'Gleysson', 'João', 'Guilherme']\n",
            "Eduardo\n",
            "Kauâ\n",
            "Victor\n",
            "Felipe\n",
            "Rafael\n",
            "Gabriel\n",
            "Agelo\n",
            "Gleysson\n",
            "João\n",
            "Guilherme\n"
          ]
        }
      ],
      "source": [
        "# Questão 1\n",
        "amigos = [\"Eduardo\",\"Kauâ\",\"Victor\",\"Felipe\",\"Rafael\",\"Gabriel\",\"Agelo\",\"Gleysson\",\"João\",\"Guilherme\"]\n",
        "print(amigos)\n",
        "#Ou...\n",
        "for amigo in amigos:\n",
        "  print(amigo)"
      ]
    },
    {
      "cell_type": "code",
      "source": [
        "# Questão 2\n",
        "amigos = [\"Eduardo\",\"Kauâ\",\"Victor\",\"Felipe\",\"Rafael\",\"Gabriel\",\"Agelo\",\"Gleysson\",\"João\",\"Guilherme\"]\n",
        "for amigo in amigos:\n",
        "  print(\"Saudações \"+ amigo + \"!\")"
      ],
      "metadata": {
        "colab": {
          "base_uri": "https://localhost:8080/"
        },
        "id": "jLW8rBa78kPo",
        "outputId": "cc7867ba-f29c-43f1-fdf3-66dcd8e8a657"
      },
      "execution_count": null,
      "outputs": [
        {
          "output_type": "stream",
          "name": "stdout",
          "text": [
            "Saudações Eduardo!\n",
            "Saudações Kauâ!\n",
            "Saudações Victor!\n",
            "Saudações Felipe!\n",
            "Saudações Rafael!\n",
            "Saudações Gabriel!\n",
            "Saudações Agelo!\n",
            "Saudações Gleysson!\n",
            "Saudações João!\n",
            "Saudações Guilherme!\n"
          ]
        }
      ]
    },
    {
      "cell_type": "code",
      "source": [
        "# Questão 3\n",
        "carros = [\"BMW E46 M3\",\"Audi RS3\",\"Honda Civic Type R\",\"Nissan 370z\",\"Mitsubishi Eclipse\",\"Mazda RX7\"]\n",
        "print(\"A \"+carros[0]+\" é uma ótima plataforma para drift\")\n",
        "print(\"O \"+carros[1]+\" tem um ronco único\")\n",
        "print(\"O \"+carros[2]+\" me agrada pela exclusividade\")\n",
        "print(\"O \"+carros[3]+\" é uma exelente escolha de plataforma de Tunnig\")\n",
        "print(\"O \"+carros[4]+\" tem seu charme quando equipado com body kits\")\n",
        "print(\"O \"+carros[5]+\" possui um motor rotativo com um som único, porem nada economico ´:(\")"
      ],
      "metadata": {
        "colab": {
          "base_uri": "https://localhost:8080/"
        },
        "id": "PJ7fHZlRBDnN",
        "outputId": "eff050cd-a4ad-48f5-db61-27e500cde777"
      },
      "execution_count": null,
      "outputs": [
        {
          "output_type": "stream",
          "name": "stdout",
          "text": [
            "A BMW E46 M3 é uma ótima plataforma para drift\n",
            "O Audi RS3 tem um ronco único\n",
            "O Honda Civic Type R me agrada pela exclusividade\n",
            "O Nissan 370z é uma exelente escolha de plataforma de Tunnig\n",
            "O Mitsubishi Eclipse tem seu charme quando equipado com body kits\n",
            "O Mazda RX7 possui um motor rotativo com um som único, porem nada economico ´:(\n"
          ]
        }
      ]
    },
    {
      "cell_type": "code",
      "source": [
        "# Questão 4\n",
        "pizzas = [\"Peperóne\",\"Calabresa\",\"Portuguesa\"]\n",
        "frases = [\" é a melhor\",\" é um escolha coringa, não tem quem desgoste\", \" é nichada, porém atende muito bem aos que gostam\"]\n",
        "for pizza in pizzas:\n",
        "  print(pizza,frases[0::3])"
      ],
      "metadata": {
        "colab": {
          "base_uri": "https://localhost:8080/"
        },
        "id": "sDrNEL6HF41a",
        "outputId": "d0104d4d-dfef-4032-8c94-59ba3dd8c09a"
      },
      "execution_count": null,
      "outputs": [
        {
          "output_type": "stream",
          "name": "stdout",
          "text": [
            "Peperóne [' é a melhor']\n",
            "Calabresa [' é a melhor']\n",
            "Portuguesa [' é a melhor']\n"
          ]
        }
      ]
    },
    {
      "cell_type": "code",
      "source": [
        "# Questão 5\n",
        "animais = [\"Cachorro\",\"Gato\",\"Coelho\"]\n",
        "for animal in animais:\n",
        "  print(animal)\n",
        "print(\"Qualquer um desses animais seria um ótimo animal de estimação!\")"
      ],
      "metadata": {
        "colab": {
          "base_uri": "https://localhost:8080/"
        },
        "id": "tQewk9SJHc1F",
        "outputId": "5025ba67-af67-4d5a-e47e-b4d73b87e161"
      },
      "execution_count": null,
      "outputs": [
        {
          "output_type": "stream",
          "name": "stdout",
          "text": [
            "Cachorro\n",
            "Gato\n",
            "Coelho\n",
            "Qualquer um desses animais seria um ótimo animal de estimação!\n"
          ]
        }
      ]
    }
  ]
}